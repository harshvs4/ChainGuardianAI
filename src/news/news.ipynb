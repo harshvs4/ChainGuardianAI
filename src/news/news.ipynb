{
 "cells": [
  {
   "cell_type": "code",
   "execution_count": 1,
   "metadata": {},
   "outputs": [
    {
     "name": "stdout",
     "output_type": "stream",
     "text": [
      "Data saved to compliance_articles.json\n"
     ]
    }
   ],
   "source": [
    "import requests\n",
    "from bs4 import BeautifulSoup\n",
    "import json\n",
    "\n",
    "# News API example\n",
    "API_KEY = 'da2dc6ff6d1544609b318ac2482525fd'\n",
    "query = 'compliance AND regulatory AND finance'\n",
    "url = f'https://newsapi.org/v2/everything?q={query}&apiKey={API_KEY}'\n",
    "\n",
    "response = requests.get(url)\n",
    "data = response.json()\n",
    "\n",
    "\n",
    "def get_full_article_text(url):\n",
    "    \"\"\"\n",
    "    Attempts to retrieve the full text of an article by scraping its URL.\n",
    "    Returns None if scraping is unsuccessful.\n",
    "    \"\"\"\n",
    "    try:\n",
    "        article_response = requests.get(url, timeout=5)\n",
    "        soup = BeautifulSoup(article_response.text, 'html.parser')\n",
    "\n",
    "        # This is a very naive approach. The actual selector might vary by site.\n",
    "        paragraphs = soup.find_all('p')\n",
    "        full_text = ' '.join(p.get_text() for p in paragraphs)\n",
    "        return full_text.strip()\n",
    "    except Exception as e:\n",
    "        print(f\"Failed to scrape {url}: {e}\")\n",
    "        return None\n",
    "    \n",
    "\n",
    "articles = []\n",
    "for article in data.get(\"articles\", []):\n",
    "    title = article.get(\"title\")\n",
    "    description = article.get(\"description\")\n",
    "    article_url = article.get(\"url\")\n",
    "    \n",
    "    # Attempt to scrape the full article\n",
    "    full_text = get_full_article_text(article_url)\n",
    "    \n",
    "    articles.append({\n",
    "        \"title\": title,\n",
    "        \"description\": description,\n",
    "        \"url\": article_url,\n",
    "        \"content\": article.get(\"content\"),  # snippet from NewsAPI\n",
    "        \"full_text\": full_text              # best-effort full text from scraping\n",
    "    })\n",
    "\n",
    "with open('compliance_articles_full.json', 'w') as f:\n",
    "    json.dump(articles, f, indent=2)\n",
    "\n",
    "print(\"Data saved to compliance_articles.json\")"
   ]
  },
  {
   "cell_type": "code",
   "execution_count": null,
   "metadata": {},
   "outputs": [],
   "source": []
  }
 ],
 "metadata": {
  "kernelspec": {
   "display_name": "Python 3",
   "language": "python",
   "name": "python3"
  },
  "language_info": {
   "codemirror_mode": {
    "name": "ipython",
    "version": 3
   },
   "file_extension": ".py",
   "mimetype": "text/x-python",
   "name": "python",
   "nbconvert_exporter": "python",
   "pygments_lexer": "ipython3",
   "version": "3.12.2"
  }
 },
 "nbformat": 4,
 "nbformat_minor": 2
}
